{
  "nbformat": 4,
  "nbformat_minor": 0,
  "metadata": {
    "colab": {
      "provenance": [],
      "authorship_tag": "ABX9TyMrDALhqmhXW48L6oS2AV05",
      "include_colab_link": true
    },
    "kernelspec": {
      "name": "python3",
      "display_name": "Python 3"
    },
    "language_info": {
      "name": "python"
    }
  },
  "cells": [
    {
      "cell_type": "markdown",
      "metadata": {
        "id": "view-in-github",
        "colab_type": "text"
      },
      "source": [
        "<a href=\"https://colab.research.google.com/github/JohnWickKeanue/tamiltvtoons-scraper/blob/main/tamiltvtoons.ipynb\" target=\"_parent\"><img src=\"https://colab.research.google.com/assets/colab-badge.svg\" alt=\"Open In Colab\"/></a>"
      ]
    },
    {
      "cell_type": "code",
      "execution_count": null,
      "metadata": {
        "id": "GdfvCXObSOMn"
      },
      "outputs": [],
      "source": [
        "#@title Enter tamiltvtoons link\n",
        "import time\n",
        "from bs4 import BeautifulSoup\n",
        "import requests\n",
        "from requests import get\n",
        "\n",
        "url = \"https://tamiltvtoons.blogspot.com/2022/11/kiteretsu-1988-season-1-episodes-in.html?m=1\"#@param {type:\"string\"}\n",
        "\n",
        "def toons(url):\n",
        "    client = requests.session()\n",
        "    r = client.get(url).text\n",
        "    soup = BeautifulSoup (r, \"html.parser\")\n",
        "    links = soup.select('a[href*=\"short2url\"]')\n",
        "    gd_txt = f\"Total Links Found : {len(links)}\\n\\n\"\n",
        "    print(gd_txt)\n",
        "    for a in links:\n",
        "         download = get(a['href'], stream=True, allow_redirects=False)\n",
        "         url = download.headers[\"location\"]\n",
        "         DOMAIN = \"https://techyuth.xyz/blog\"\n",
        "         url = url[:-1] if url[-1] == '/' else url\n",
        "         code = url.split(\"/\")[-1]\n",
        "         final_url = f\"{DOMAIN}/{code}\"\n",
        "         ref = \"https://techeysub.online/\"\n",
        "         h = {\"referer\": ref}\n",
        "         resp = client.get(final_url, headers=h)\n",
        "         soup = BeautifulSoup(resp.content, \"html.parser\")\n",
        "         inputs = soup.find_all(\"input\")\n",
        "         data = { input.get('name'): input.get('value') for input in inputs }\n",
        "         h = { \"x-requested-with\": \"XMLHttpRequest\" }\n",
        "         time.sleep(10)\n",
        "         r = client.post(f\"{DOMAIN}/links/go\", data=data, headers=h)\n",
        "         g = r.json()['url']\n",
        "         if \"drive.google.com\" in g:\n",
        "                t = client.get(g).text\n",
        "                soupt = BeautifulSoup(t, \"html.parser\")\n",
        "                title = soupt.title\n",
        "                gd_txt = f\"{(title.text).replace('GDToT | ' , '')}\\n{g}\\n\\n\"\n",
        "                print(gd_txt)\n",
        "\n",
        "print(toons(url))"
      ]
    }
  ]
}